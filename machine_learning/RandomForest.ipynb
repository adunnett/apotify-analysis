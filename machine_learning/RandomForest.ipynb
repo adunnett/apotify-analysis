{
 "metadata": {
  "language_info": {
   "codemirror_mode": {
    "name": "ipython",
    "version": 3
   },
   "file_extension": ".py",
   "mimetype": "text/x-python",
   "name": "python",
   "nbconvert_exporter": "python",
   "pygments_lexer": "ipython3",
   "version": "3.8.3-final"
  },
  "orig_nbformat": 2,
  "kernelspec": {
   "name": "python3",
   "display_name": "Python 3",
   "language": "python"
  }
 },
 "nbformat": 4,
 "nbformat_minor": 2,
 "cells": [
  {
   "cell_type": "code",
   "execution_count": 3,
   "metadata": {},
   "outputs": [],
   "source": [
    "%matplotlib inline\n",
    "import matplotlib.pyplot as plt\n",
    "import numpy as np\n",
    "import pandas as pd\n",
    "from sklearn import tree\n",
    "from sklearn.metrics import accuracy_score\n",
    "from sklearn.model_selection import train_test_split\n",
    "import pickle"
   ]
  },
  {
   "cell_type": "code",
   "execution_count": 4,
   "metadata": {},
   "outputs": [
    {
     "output_type": "execute_result",
     "data": {
      "text/plain": [
       "                                   Name                   Album  \\\n",
       "0                            King Kunta     To Pimp A Butterfly   \n",
       "1            The Less I Know The Better                Currents   \n",
       "2                         Let It Happen                Currents   \n",
       "3                       Do You Remember         Jarryd James EP   \n",
       "4  The Buzz (feat. Mataya & Young Tapz)  Dark Night Sweet Light   \n",
       "\n",
       "           Artist Release_date  Length  Popularity  Acousticness  \\\n",
       "0  Kendrick Lamar   16/03/2015  234693          72       0.00589   \n",
       "1     Tame Impala   17/07/2015  216320          84       0.01150   \n",
       "2     Tame Impala   17/07/2015  467586          74       0.00462   \n",
       "3    Jarryd James    3/09/2015  234426          35       0.16900   \n",
       "4       Hermitude   28/08/2015  221786          56       0.33000   \n",
       "\n",
       "   Danceability  Energy  Instrumentalness  Liveness  Valence  Loudness  \\\n",
       "0         0.884   0.657          0.000000     0.154    0.489    -4.569   \n",
       "1         0.640   0.740          0.006780     0.167    0.785    -4.083   \n",
       "2         0.602   0.881          0.026600     0.111    0.577    -5.875   \n",
       "3         0.662   0.334          0.000458     0.124    0.315   -10.012   \n",
       "4         0.739   0.583          0.001370     0.122    0.497    -6.434   \n",
       "\n",
       "   Speechiness    Tempo  Time_signature  \n",
       "0       0.0977  107.059               4  \n",
       "1       0.0284  116.879               4  \n",
       "2       0.0443  125.012               4  \n",
       "3       0.0584   72.014               4  \n",
       "4       0.1730  140.941               4  "
      ],
      "text/html": "<div>\n<style scoped>\n    .dataframe tbody tr th:only-of-type {\n        vertical-align: middle;\n    }\n\n    .dataframe tbody tr th {\n        vertical-align: top;\n    }\n\n    .dataframe thead th {\n        text-align: right;\n    }\n</style>\n<table border=\"1\" class=\"dataframe\">\n  <thead>\n    <tr style=\"text-align: right;\">\n      <th></th>\n      <th>Name</th>\n      <th>Album</th>\n      <th>Artist</th>\n      <th>Release_date</th>\n      <th>Length</th>\n      <th>Popularity</th>\n      <th>Acousticness</th>\n      <th>Danceability</th>\n      <th>Energy</th>\n      <th>Instrumentalness</th>\n      <th>Liveness</th>\n      <th>Valence</th>\n      <th>Loudness</th>\n      <th>Speechiness</th>\n      <th>Tempo</th>\n      <th>Time_signature</th>\n    </tr>\n  </thead>\n  <tbody>\n    <tr>\n      <th>0</th>\n      <td>King Kunta</td>\n      <td>To Pimp A Butterfly</td>\n      <td>Kendrick Lamar</td>\n      <td>16/03/2015</td>\n      <td>234693</td>\n      <td>72</td>\n      <td>0.00589</td>\n      <td>0.884</td>\n      <td>0.657</td>\n      <td>0.000000</td>\n      <td>0.154</td>\n      <td>0.489</td>\n      <td>-4.569</td>\n      <td>0.0977</td>\n      <td>107.059</td>\n      <td>4</td>\n    </tr>\n    <tr>\n      <th>1</th>\n      <td>The Less I Know The Better</td>\n      <td>Currents</td>\n      <td>Tame Impala</td>\n      <td>17/07/2015</td>\n      <td>216320</td>\n      <td>84</td>\n      <td>0.01150</td>\n      <td>0.640</td>\n      <td>0.740</td>\n      <td>0.006780</td>\n      <td>0.167</td>\n      <td>0.785</td>\n      <td>-4.083</td>\n      <td>0.0284</td>\n      <td>116.879</td>\n      <td>4</td>\n    </tr>\n    <tr>\n      <th>2</th>\n      <td>Let It Happen</td>\n      <td>Currents</td>\n      <td>Tame Impala</td>\n      <td>17/07/2015</td>\n      <td>467586</td>\n      <td>74</td>\n      <td>0.00462</td>\n      <td>0.602</td>\n      <td>0.881</td>\n      <td>0.026600</td>\n      <td>0.111</td>\n      <td>0.577</td>\n      <td>-5.875</td>\n      <td>0.0443</td>\n      <td>125.012</td>\n      <td>4</td>\n    </tr>\n    <tr>\n      <th>3</th>\n      <td>Do You Remember</td>\n      <td>Jarryd James EP</td>\n      <td>Jarryd James</td>\n      <td>3/09/2015</td>\n      <td>234426</td>\n      <td>35</td>\n      <td>0.16900</td>\n      <td>0.662</td>\n      <td>0.334</td>\n      <td>0.000458</td>\n      <td>0.124</td>\n      <td>0.315</td>\n      <td>-10.012</td>\n      <td>0.0584</td>\n      <td>72.014</td>\n      <td>4</td>\n    </tr>\n    <tr>\n      <th>4</th>\n      <td>The Buzz (feat. Mataya &amp; Young Tapz)</td>\n      <td>Dark Night Sweet Light</td>\n      <td>Hermitude</td>\n      <td>28/08/2015</td>\n      <td>221786</td>\n      <td>56</td>\n      <td>0.33000</td>\n      <td>0.739</td>\n      <td>0.583</td>\n      <td>0.001370</td>\n      <td>0.122</td>\n      <td>0.497</td>\n      <td>-6.434</td>\n      <td>0.1730</td>\n      <td>140.941</td>\n      <td>4</td>\n    </tr>\n  </tbody>\n</table>\n</div>"
     },
     "metadata": {},
     "execution_count": 4
    }
   ],
   "source": [
    "hottest=pd.read_csv('../data/hottest_all.csv')\n",
    "hottest.head()"
   ]
  },
  {
   "cell_type": "code",
   "execution_count": 5,
   "metadata": {},
   "outputs": [],
   "source": [
    "# Creating the Features and Targets datasets. \n",
    "X = hottest[['Length', 'Acousticness','Danceability', 'Energy', 'Instrumentalness', \n",
    "            'Liveness', 'Loudness', 'Speechiness','Tempo']]\n",
    "\n",
    "hottest[\"Popularity\"]\n",
    "y = hottest[\"PopularityCategory\"] = np.where(hottest['Popularity'] > 70 , 1, 0) # if > 65 popularity, then 1 (popular), else 0 (not popular) \n",
    "\n",
    "\n",
    "y = hottest.PopularityCategory"
   ]
  },
  {
   "cell_type": "code",
   "execution_count": 6,
   "metadata": {},
   "outputs": [],
   "source": [
    "# Importing library for Train Test split. \n",
    "from sklearn.model_selection import train_test_split"
   ]
  },
  {
   "cell_type": "code",
   "execution_count": 7,
   "metadata": {},
   "outputs": [],
   "source": [
    "# Creating the splits. \n",
    "X_train, X_test, y_train, y_test = train_test_split(X,y,test_size=0.3,random_state=42)"
   ]
  },
  {
   "cell_type": "code",
   "execution_count": 8,
   "metadata": {},
   "outputs": [
    {
     "output_type": "stream",
     "name": "stdout",
     "text": [
      "Training Feature data :  (632, 9)\nTraining Feature data :  (271, 9)\nTraining Feature data :  (632,)\nTesting Target data :  (271,)\n"
     ]
    }
   ],
   "source": [
    "# Checking the dimensions of the training and testing sets. \n",
    "print(\"Training Feature data : \", X_train.shape)\n",
    "print(\"Training Feature data : \", X_test.shape)\n",
    "print(\"Training Feature data : \", y_train.shape)\n",
    "print(\"Testing Target data : \", y_test.shape)"
   ]
  },
  {
   "cell_type": "code",
   "execution_count": 9,
   "metadata": {},
   "outputs": [
    {
     "output_type": "stream",
     "name": "stdout",
     "text": [
      "Random Forest: 79.70479704797047\n"
     ]
    }
   ],
   "source": [
    "# Random Forest\n",
    "from sklearn.ensemble import RandomForestClassifier\n",
    "\n",
    "randomforest = RandomForestClassifier()\n",
    "randomforest.fit(X_train, y_train)\n",
    "y_pred = randomforest.predict(X_test)\n",
    "acc_randomforest = accuracy_score(y_pred, y_test) * 100\n",
    "print(\"Random Forest:\", acc_randomforest)"
   ]
  },
  {
   "cell_type": "code",
   "execution_count": null,
   "metadata": {},
   "outputs": [],
   "source": []
  },
  {
   "cell_type": "code",
   "execution_count": null,
   "metadata": {},
   "outputs": [],
   "source": []
  }
 ]
}