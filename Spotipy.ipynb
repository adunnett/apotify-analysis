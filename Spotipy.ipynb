{
 "metadata": {
  "language_info": {
   "codemirror_mode": {
    "name": "ipython",
    "version": 3
   },
   "file_extension": ".py",
   "mimetype": "text/x-python",
   "name": "python",
   "nbconvert_exporter": "python",
   "pygments_lexer": "ipython3",
   "version": "3.8.3-final"
  },
  "orig_nbformat": 2,
  "kernelspec": {
   "name": "python3",
   "display_name": "Python 3",
   "language": "python"
  }
 },
 "nbformat": 4,
 "nbformat_minor": 2,
 "cells": [
  {
   "cell_type": "code",
   "execution_count": 7,
   "metadata": {},
   "outputs": [],
   "source": [
    "#import dependencies\n",
    "import spotipy\n",
    "import spotipy.oauth2 as oauth2\n",
    "from spotipy.oauth2 import SpotifyOAuth\n",
    "from spotipy.oauth2 import SpotifyClientCredentials\n",
    "import time\n",
    "import pandas as pd"
   ]
  },
  {
   "cell_type": "code",
   "execution_count": 8,
   "metadata": {},
   "outputs": [],
   "source": [
    "# credentials\n",
    "auth_manager = SpotifyClientCredentials(client_id = \"b590b765954445a2860f075ef51d658b\",\n",
    "                                        client_secret = \"07943d05eb414f75883ec7b5d469f127\")\n",
    "sp = spotipy.Spotify(auth_manager=auth_manager)"
   ]
  },
  {
   "cell_type": "code",
   "execution_count": 20,
   "metadata": {},
   "outputs": [
    {
     "output_type": "stream",
     "name": "stdout",
     "text": [
      "60\n['5wTt43UbS3HmDvzAJ7Yax3', '472vIK1ldetTxRxG3ovaiY', '1ZIKpMTRPqhwAoVXWY3tXI', '77Bt2DXJE1R1qsnm4D10Ox', '7Cw3yXDA8Uui37SI5FFaA7', '41apHLdnrtAGXMMNehkGNR', '5ZTsje1HfASFxiffjLoITe', '0s3pw4LuWKjZhTLb1799UB', '3q3lSbfT5BnQlIvGwahgAD', '2414muVNy0au4CtSWEi0AG', '5NUXE8W12lWcUXgJRCjeEw', '0NmuYnjETG3u3qx0OmEJev', '3mwQ4tEWBWynjw7HJgMiRA', '3hLuHKzG1cmlRpq53ZVWd8', '6IBcOGPsniK3Pso1wHIhew', '24LyKCgvEia1eAPUbuISlk', '1UYfAU2bwgjaM5rIIPQleC', '4rPT6OP2JWQyv43CWQJYIg', '2YgwcrRc33vIWgv5n2TNZ9', '0vK1vDEvEMvSpFEKW62Qub', '0s8p5akawSBbBO8KlujxDz', '0Oo9yzhli7r5V5XO6y3GeN', '5ql22UbzPOJrDSjVeTvX6E', '0ZyHmSPsl6eZkKkKdIOpQb', '5lyyBTTdB9tlNKvni9VwvZ', '55CGqzJFZBGOAiGCq3w8Wg', '4iXDn9pu5Q9sxv45vE8Lak', '1SfEypgAP8iZBH2mID42xs', '5Flk5ig2Lt0FrdM8UQfVeu', '3t2xlkvPsrcyia0eBaCZ53', '5qoMH9hVHYFqARj7nA8A5H', '79SpZx07lxhiWXirNVvqGZ', '2KUacvCrre6ckPVUBrROpN', '1fNznqiu5d1wLezuTyy1UB', '4wrKruoaRzt3TtdzJ9uR0F', '0RshiY6XKLbdsnFNEQoHFH', '7cwKO3SvjCpTyLiIWfnxpx', '2DINVEELpI3ibUW2EzeDs7', '3VGGcNF0O9loBSuLveZEUU', '2A0JdQvwSbOtI9sSIIxgQR', '4NmUNvMjX0LzztKePGtiC2', '5nra2uQhiaYKKpemgiDNC3', '34slXA5D75T5S0dwYYRd4J', '1LPc97YaYqzIsGEuclhIRh', '7eQEnXy5vNjPv6aXVl6N26', '4ijajhHtBsOn91S4dgkhu7', '61Hpngia9MglsIAeIJW6Oe', '4PmYIejHKa1uwDiDfskllF', '36ISlLb12gKuCCVTYXC0gb', '3cofUarZTBOFUIwPfXgG8I', '2bV4NwncWMnVvcWyU2yxwB', '5gRsliQqZLc4tv688SE3wB', '57YkkgxAiusJPMtiSG3w3c', '4gEvdyhSgZRQx0dAKcV9Tr', '3O0xuYpN1TGkDVW85Drmmz', '7db51Qu7R66q8xjbza91gU', '2PhmmMX8uFumk7j1wHZa58', '08NMNQ9JLEwFBPyxCq7G4Z', '51DFMdOGsNe1PYtOUAAvjG', '2HT1n4YYTS6zbIHYaUrWeC']\n"
     ]
    }
   ],
   "source": [
    "#function to obtain track IDs from Triple J Hottest 100\n",
    "def getTrackIDs(user, playlist_id):\n",
    "    track_ids = []\n",
    "    playlist = sp.user_playlist(user, playlist_id)\n",
    "    for item in playlist['tracks']['items']:\n",
    "        track = item['track']\n",
    "        track_ids.append(track['id'])\n",
    "    return track_ids\n",
    "track_ids = getTrackIDs('spotify', '37i9dQZF1DWXepGEFFmQXJ')\n",
    "print(len(track_ids))\n",
    "print(track_ids)"
   ]
  },
  {
   "cell_type": "code",
   "execution_count": 21,
   "metadata": {},
   "outputs": [],
   "source": [
    "#get info and features of tracks in playlist\n",
    "def getTrackFeatures(id):\n",
    "    track_info = sp.track(id)\n",
    "    features_info = sp.audio_features(id)\n",
    "\n",
    "    #Track Information\n",
    "    name = track_info['name']\n",
    "    album = track_info['album']['name']\n",
    "    artist = track_info['album']['artists'][0]['name']\n",
    "    release_date = track_info['album']['release_date']\n",
    "    length = track_info['duration_ms']\n",
    "    popularity = track_info['popularity']\n",
    "\n",
    "    #Track Features\n",
    "    track_id = features_info[0]['id']\n",
    "    acousticness = features_info[0]['acousticness']\n",
    "    danceability = features_info[0]['danceability']\n",
    "    energy = features_info[0]['energy']\n",
    "    instrumentalness = features_info[0]['instrumentalness']\n",
    "    liveness = features_info[0]['liveness']\n",
    "    valence = features_info[0]['valence']\n",
    "    loudness = features_info[0]['loudness']\n",
    "    speechiness = features_info[0]['speechiness']\n",
    "    tempo = features_info[0]['tempo']\n",
    "    time_signature = features_info[0]['time_signature']\n",
    "    \n",
    "\n",
    "    track_data = [name, album, artist, release_date, length, popularity, track_id, acousticness, danceability, energy, instrumentalness, liveness, valence, loudness, speechiness, tempo, time_signature]\n",
    "\n",
    "    return track_data"
   ]
  },
  {
   "cell_type": "code",
   "execution_count": 22,
   "metadata": {},
   "outputs": [],
   "source": [
    "track_list = [] \n",
    "for i in range(len(track_ids)):\n",
    "    time.sleep(.3)\n",
    "    track_data = getTrackFeatures(track_ids[i])\n",
    "    track_list.append(track_data)\n",
    "\n",
    "hottest_2015 = pd.DataFrame(track_list, columns = ['Name', 'Album', 'Artist', 'Release_date', 'Length', 'Popularity', 'Track_id', 'Acousticness', 'Danceability', 'Energy', 'Instrumentalness', 'Liveness', 'Valence', 'Loudness', 'Speechiness', 'Tempo', 'Time_signature'])\n",
    "\n",
    "hottest_2015.to_csv(r'data/Country.csv')"
   ]
  }
 ]
}